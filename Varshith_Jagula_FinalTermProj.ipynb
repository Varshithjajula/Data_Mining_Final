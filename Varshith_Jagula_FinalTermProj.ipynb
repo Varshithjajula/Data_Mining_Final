{
 "cells": [
  {
   "cell_type": "markdown",
   "metadata": {
    "id": "86elZ6lmj3fs"
   },
   "source": [
    "# Import Libararies"
   ]
  },
  {
   "cell_type": "code",
   "execution_count": 2,
   "metadata": {
    "id": "lNN9cIET11EB"
   },
   "outputs": [],
   "source": [
    "import numpy as np\n",
    "import pandas as pd\n",
    "import matplotlib.pyplot as plt\n",
    "from sklearn.model_selection import train_test_split, StratifiedKFold, RandomizedSearchCV, GridSearchCV\n",
    "from sklearn.preprocessing import StandardScaler, MinMaxScaler, LabelEncoder\n",
    "from sklearn.ensemble import RandomForestClassifier\n",
    "from sklearn.neighbors import KNeighborsClassifier\n",
    "from sklearn.metrics import roc_curve, roc_auc_score, brier_score_loss, confusion_matrix, accuracy_score\n",
    "from tensorflow.keras.models import Sequential\n",
    "from tensorflow.keras.layers import LSTM, Dense"
   ]
  },
  {
   "cell_type": "markdown",
   "metadata": {
    "id": "enASH7GVj-Fk"
   },
   "source": [
    "# Load data"
   ]
  },
  {
   "cell_type": "code",
   "execution_count": 3,
   "metadata": {
    "id": "8IDbbPBzM67d"
   },
   "outputs": [],
   "source": [
    "adult_df = pd.read_csv( \"adult.data\", sep=\",\", header = None)"
   ]
  },
  {
   "cell_type": "code",
   "execution_count": 4,
   "metadata": {
    "id": "tHeNNcgNOi4l"
   },
   "outputs": [],
   "source": [
    "column_names = [\n",
    "    \"age\", \"workclass\", \"fnlwgt\", \"education\", \"education-num\",\n",
    "    \"marital-status\", \"occupation\", \"relationship\", \"race\", \"sex\",\n",
    "    \"capital-gain\", \"capital-loss\", \"hours-per-week\", \"native-country\", \"income\"\n",
    "]\n",
    "adult_df.columns = column_names\n"
   ]
  },
  {
   "cell_type": "markdown",
   "metadata": {},
   "source": [
    "# Understanding the Data\n"
   ]
  },
  {
   "cell_type": "code",
   "execution_count": 5,
   "metadata": {
    "colab": {
     "base_uri": "https://localhost:8080/"
    },
    "id": "BqTFQ-l311ED",
    "outputId": "04adb54e-9f62-425c-ea01-b171ddf848d4"
   },
   "outputs": [
    {
     "name": "stdout",
     "output_type": "stream",
     "text": [
      "[' <=50K' ' >50K']\n"
     ]
    }
   ],
   "source": [
    "adult_df.head()\n",
    "print(adult_df['income'].unique())\n"
   ]
  },
  {
   "cell_type": "code",
   "execution_count": 6,
   "metadata": {
    "colab": {
     "base_uri": "https://localhost:8080/"
    },
    "id": "5doZLyO311ED",
    "outputId": "02248fca-8f18-4280-a83e-fcf1d21ffbbf"
   },
   "outputs": [
    {
     "name": "stderr",
     "output_type": "stream",
     "text": [
      "C:\\Users\\SRINIVAS\\AppData\\Local\\Temp\\ipykernel_51748\\737210840.py:2: FutureWarning: A value is trying to be set on a copy of a DataFrame or Series through chained assignment using an inplace method.\n",
      "The behavior will change in pandas 3.0. This inplace method will never work because the intermediate object on which we are setting values always behaves as a copy.\n",
      "\n",
      "For example, when doing 'df[col].method(value, inplace=True)', try using 'df.method({col: value}, inplace=True)' or df[col] = df[col].method(value) instead, to perform the operation inplace on the original object.\n",
      "\n",
      "\n",
      "  adult_df[col].fillna(adult_df[col].mode()[0], inplace=True)\n"
     ]
    }
   ],
   "source": [
    "for col in ['workclass', 'occupation', 'native-country']:\n",
    "    adult_df[col].fillna(adult_df[col].mode()[0], inplace=True)"
   ]
  },
  {
   "cell_type": "code",
   "execution_count": 7,
   "metadata": {
    "colab": {
     "base_uri": "https://localhost:8080/"
    },
    "id": "HY2VqUDQApET",
    "outputId": "b90f1b25-b31d-41bc-d714-cd5a53097c5a"
   },
   "outputs": [
    {
     "name": "stdout",
     "output_type": "stream",
     "text": [
      "<class 'pandas.core.frame.DataFrame'>\n",
      "RangeIndex: 32561 entries, 0 to 32560\n",
      "Data columns (total 15 columns):\n",
      " #   Column          Non-Null Count  Dtype \n",
      "---  ------          --------------  ----- \n",
      " 0   age             32561 non-null  int64 \n",
      " 1   workclass       32561 non-null  object\n",
      " 2   fnlwgt          32561 non-null  int64 \n",
      " 3   education       32561 non-null  object\n",
      " 4   education-num   32561 non-null  int64 \n",
      " 5   marital-status  32561 non-null  object\n",
      " 6   occupation      32561 non-null  object\n",
      " 7   relationship    32561 non-null  object\n",
      " 8   race            32561 non-null  object\n",
      " 9   sex             32561 non-null  object\n",
      " 10  capital-gain    32561 non-null  int64 \n",
      " 11  capital-loss    32561 non-null  int64 \n",
      " 12  hours-per-week  32561 non-null  int64 \n",
      " 13  native-country  32561 non-null  object\n",
      " 14  income          32561 non-null  object\n",
      "dtypes: int64(6), object(9)\n",
      "memory usage: 3.7+ MB\n"
     ]
    }
   ],
   "source": [
    "adult_df.isnull().sum()\n",
    "adult_df.info()"
   ]
  },
  {
   "cell_type": "code",
   "execution_count": 8,
   "metadata": {
    "colab": {
     "base_uri": "https://localhost:8080/",
     "height": 293
    },
    "id": "cqe6d9K111ED",
    "outputId": "71b8d682-f15c-4662-9a85-6fc471da9958"
   },
   "outputs": [
    {
     "data": {
      "text/html": [
       "<div>\n",
       "<style scoped>\n",
       "    .dataframe tbody tr th:only-of-type {\n",
       "        vertical-align: middle;\n",
       "    }\n",
       "\n",
       "    .dataframe tbody tr th {\n",
       "        vertical-align: top;\n",
       "    }\n",
       "\n",
       "    .dataframe thead th {\n",
       "        text-align: right;\n",
       "    }\n",
       "</style>\n",
       "<table border=\"1\" class=\"dataframe\">\n",
       "  <thead>\n",
       "    <tr style=\"text-align: right;\">\n",
       "      <th></th>\n",
       "      <th>age</th>\n",
       "      <th>workclass</th>\n",
       "      <th>fnlwgt</th>\n",
       "      <th>education</th>\n",
       "      <th>education-num</th>\n",
       "      <th>marital-status</th>\n",
       "      <th>occupation</th>\n",
       "      <th>relationship</th>\n",
       "      <th>race</th>\n",
       "      <th>sex</th>\n",
       "      <th>capital-gain</th>\n",
       "      <th>capital-loss</th>\n",
       "      <th>hours-per-week</th>\n",
       "      <th>native-country</th>\n",
       "      <th>income</th>\n",
       "    </tr>\n",
       "  </thead>\n",
       "  <tbody>\n",
       "    <tr>\n",
       "      <th>0</th>\n",
       "      <td>39</td>\n",
       "      <td>State-gov</td>\n",
       "      <td>77516</td>\n",
       "      <td>Bachelors</td>\n",
       "      <td>13</td>\n",
       "      <td>Never-married</td>\n",
       "      <td>Adm-clerical</td>\n",
       "      <td>Not-in-family</td>\n",
       "      <td>White</td>\n",
       "      <td>Male</td>\n",
       "      <td>2174</td>\n",
       "      <td>0</td>\n",
       "      <td>40</td>\n",
       "      <td>United-States</td>\n",
       "      <td>0</td>\n",
       "    </tr>\n",
       "    <tr>\n",
       "      <th>1</th>\n",
       "      <td>50</td>\n",
       "      <td>Self-emp-not-inc</td>\n",
       "      <td>83311</td>\n",
       "      <td>Bachelors</td>\n",
       "      <td>13</td>\n",
       "      <td>Married-civ-spouse</td>\n",
       "      <td>Exec-managerial</td>\n",
       "      <td>Husband</td>\n",
       "      <td>White</td>\n",
       "      <td>Male</td>\n",
       "      <td>0</td>\n",
       "      <td>0</td>\n",
       "      <td>13</td>\n",
       "      <td>United-States</td>\n",
       "      <td>0</td>\n",
       "    </tr>\n",
       "    <tr>\n",
       "      <th>2</th>\n",
       "      <td>38</td>\n",
       "      <td>Private</td>\n",
       "      <td>215646</td>\n",
       "      <td>HS-grad</td>\n",
       "      <td>9</td>\n",
       "      <td>Divorced</td>\n",
       "      <td>Handlers-cleaners</td>\n",
       "      <td>Not-in-family</td>\n",
       "      <td>White</td>\n",
       "      <td>Male</td>\n",
       "      <td>0</td>\n",
       "      <td>0</td>\n",
       "      <td>40</td>\n",
       "      <td>United-States</td>\n",
       "      <td>0</td>\n",
       "    </tr>\n",
       "    <tr>\n",
       "      <th>3</th>\n",
       "      <td>53</td>\n",
       "      <td>Private</td>\n",
       "      <td>234721</td>\n",
       "      <td>11th</td>\n",
       "      <td>7</td>\n",
       "      <td>Married-civ-spouse</td>\n",
       "      <td>Handlers-cleaners</td>\n",
       "      <td>Husband</td>\n",
       "      <td>Black</td>\n",
       "      <td>Male</td>\n",
       "      <td>0</td>\n",
       "      <td>0</td>\n",
       "      <td>40</td>\n",
       "      <td>United-States</td>\n",
       "      <td>0</td>\n",
       "    </tr>\n",
       "    <tr>\n",
       "      <th>4</th>\n",
       "      <td>28</td>\n",
       "      <td>Private</td>\n",
       "      <td>338409</td>\n",
       "      <td>Bachelors</td>\n",
       "      <td>13</td>\n",
       "      <td>Married-civ-spouse</td>\n",
       "      <td>Prof-specialty</td>\n",
       "      <td>Wife</td>\n",
       "      <td>Black</td>\n",
       "      <td>Female</td>\n",
       "      <td>0</td>\n",
       "      <td>0</td>\n",
       "      <td>40</td>\n",
       "      <td>Cuba</td>\n",
       "      <td>0</td>\n",
       "    </tr>\n",
       "  </tbody>\n",
       "</table>\n",
       "</div>"
      ],
      "text/plain": [
       "   age          workclass  fnlwgt   education  education-num  \\\n",
       "0   39          State-gov   77516   Bachelors             13   \n",
       "1   50   Self-emp-not-inc   83311   Bachelors             13   \n",
       "2   38            Private  215646     HS-grad              9   \n",
       "3   53            Private  234721        11th              7   \n",
       "4   28            Private  338409   Bachelors             13   \n",
       "\n",
       "        marital-status          occupation    relationship    race      sex  \\\n",
       "0        Never-married        Adm-clerical   Not-in-family   White     Male   \n",
       "1   Married-civ-spouse     Exec-managerial         Husband   White     Male   \n",
       "2             Divorced   Handlers-cleaners   Not-in-family   White     Male   \n",
       "3   Married-civ-spouse   Handlers-cleaners         Husband   Black     Male   \n",
       "4   Married-civ-spouse      Prof-specialty            Wife   Black   Female   \n",
       "\n",
       "   capital-gain  capital-loss  hours-per-week  native-country  income  \n",
       "0          2174             0              40   United-States       0  \n",
       "1             0             0              13   United-States       0  \n",
       "2             0             0              40   United-States       0  \n",
       "3             0             0              40   United-States       0  \n",
       "4             0             0              40            Cuba       0  "
      ]
     },
     "execution_count": 8,
     "metadata": {},
     "output_type": "execute_result"
    }
   ],
   "source": [
    "adult_df['income'] = adult_df['income'].map({' <=50K': 0, ' >50K': 1})\n",
    "adult_df.head()"
   ]
  },
  {
   "cell_type": "code",
   "execution_count": 9,
   "metadata": {
    "colab": {
     "base_uri": "https://localhost:8080/",
     "height": 467
    },
    "id": "lrnFyACuETEb",
    "outputId": "2b2faa34-2572-4ea6-964f-6fdf6243db23"
   },
   "outputs": [
    {
     "data": {
      "image/png": "[encoded data removed]",
      "text/plain": [
       "<Figure size 640x480 with 1 Axes>"
      ]
     },
     "metadata": {},
     "output_type": "display_data"
    }
   ],
   "source": [
    "income_counts = adult_df['income'].value_counts()\n",
    "income_percentages = (income_counts / income_counts.sum()) * 100\n",
    "fig, ax = plt.subplots()\n",
    "income_counts.plot(kind='bar', ax=ax)\n",
    "for i, count in enumerate(income_counts):\n",
    "    ax.text(i, count + 500, f'{income_percentages[i]:.2f}%', ha='center', fontsize=10)\n",
    "\n",
    "plt.xlabel('Income (0 = <=50K, 1 = >50K)')\n",
    "plt.ylabel('Count')\n",
    "plt.title('Income Distribution with Percentages')\n",
    "plt.show()\n"
   ]
  },
  {
   "cell_type": "markdown",
   "metadata": {
    "id": "1oVOtcIVm-DO"
   },
   "source": [
    "## Data preprocessing"
   ]
  },
  {
   "cell_type": "code",
   "execution_count": 10,
   "metadata": {
    "id": "Wf-J2juL11ED"
   },
   "outputs": [],
   "source": [
    "# Separating Target and Features from the DataFrame\n",
    "features = adult_df.iloc[:, :-1]\n",
    "Y = adult_df.iloc[:, -1]"
   ]
  },
  {
   "cell_type": "code",
   "execution_count": 11,
   "metadata": {
    "id": "-FLxRCjk11ED"
   },
   "outputs": [],
   "source": [
    "# Checking for Categorical Variables\n",
    "features_complete= features.select_dtypes('object').apply(pd.Series.nunique, axis = 0)"
   ]
  },
  {
   "cell_type": "code",
   "execution_count": 12,
   "metadata": {
    "colab": {
     "base_uri": "https://localhost:8080/",
     "height": 335
    },
    "id": "NwUi8s6v11ED",
    "outputId": "a2aeb7bd-02bd-4199-e7b3-f81bbe173eff"
   },
   "outputs": [
    {
     "data": {
      "text/plain": [
       "workclass          9\n",
       "education         16\n",
       "marital-status     7\n",
       "occupation        15\n",
       "relationship       6\n",
       "race               5\n",
       "sex                2\n",
       "native-country    42\n",
       "dtype: int64"
      ]
     },
     "execution_count": 12,
     "metadata": {},
     "output_type": "execute_result"
    }
   ],
   "source": [
    "features_complete"
   ]
  },
  {
   "cell_type": "code",
   "execution_count": 13,
   "metadata": {
    "colab": {
     "base_uri": "https://localhost:8080/"
    },
    "id": "zwPOEwPVvPzA",
    "outputId": "1a071205-716e-4fbf-fe6b-741985ee9264"
   },
   "outputs": [
    {
     "name": "stdout",
     "output_type": "stream",
     "text": [
      "1 columns were label encoded: ['sex']\n"
     ]
    }
   ],
   "source": [
    "# Label Encoding\n",
    "le = LabelEncoder()\n",
    "le_count = 0\n",
    "encoded_columns = []\n",
    "for col in features:\n",
    "    if features[col].dtype == 'object':\n",
    "        if len(list(features[col].unique())) <= 2:\n",
    "            le.fit(features[col])\n",
    "            features[col] = le.transform(features[col])\n",
    "            le_count += 1\n",
    "            encoded_columns.append(col)\n",
    "\n",
    "print('%d columns were label encoded: %s' % (le_count, encoded_columns))"
   ]
  },
  {
   "cell_type": "code",
   "execution_count": 14,
   "metadata": {
    "colab": {
     "base_uri": "https://localhost:8080/",
     "height": 307
    },
    "id": "C3GGd9yPwH5a",
    "outputId": "6d9966bb-7123-4ed2-9212-b3ed3884ce66"
   },
   "outputs": [
    {
     "data": {
      "text/html": [
       "<div>\n",
       "<style scoped>\n",
       "    .dataframe tbody tr th:only-of-type {\n",
       "        vertical-align: middle;\n",
       "    }\n",
       "\n",
       "    .dataframe tbody tr th {\n",
       "        vertical-align: top;\n",
       "    }\n",
       "\n",
       "    .dataframe thead th {\n",
       "        text-align: right;\n",
       "    }\n",
       "</style>\n",
       "<table border=\"1\" class=\"dataframe\">\n",
       "  <thead>\n",
       "    <tr style=\"text-align: right;\">\n",
       "      <th></th>\n",
       "      <th>age</th>\n",
       "      <th>fnlwgt</th>\n",
       "      <th>education-num</th>\n",
       "      <th>sex</th>\n",
       "      <th>capital-gain</th>\n",
       "      <th>capital-loss</th>\n",
       "      <th>hours-per-week</th>\n",
       "      <th>workclass_ ?</th>\n",
       "      <th>workclass_ Federal-gov</th>\n",
       "      <th>workclass_ Local-gov</th>\n",
       "      <th>...</th>\n",
       "      <th>native-country_ Portugal</th>\n",
       "      <th>native-country_ Puerto-Rico</th>\n",
       "      <th>native-country_ Scotland</th>\n",
       "      <th>native-country_ South</th>\n",
       "      <th>native-country_ Taiwan</th>\n",
       "      <th>native-country_ Thailand</th>\n",
       "      <th>native-country_ Trinadad&amp;Tobago</th>\n",
       "      <th>native-country_ United-States</th>\n",
       "      <th>native-country_ Vietnam</th>\n",
       "      <th>native-country_ Yugoslavia</th>\n",
       "    </tr>\n",
       "  </thead>\n",
       "  <tbody>\n",
       "    <tr>\n",
       "      <th>0</th>\n",
       "      <td>39</td>\n",
       "      <td>77516</td>\n",
       "      <td>13</td>\n",
       "      <td>1</td>\n",
       "      <td>2174</td>\n",
       "      <td>0</td>\n",
       "      <td>40</td>\n",
       "      <td>False</td>\n",
       "      <td>False</td>\n",
       "      <td>False</td>\n",
       "      <td>...</td>\n",
       "      <td>False</td>\n",
       "      <td>False</td>\n",
       "      <td>False</td>\n",
       "      <td>False</td>\n",
       "      <td>False</td>\n",
       "      <td>False</td>\n",
       "      <td>False</td>\n",
       "      <td>True</td>\n",
       "      <td>False</td>\n",
       "      <td>False</td>\n",
       "    </tr>\n",
       "    <tr>\n",
       "      <th>1</th>\n",
       "      <td>50</td>\n",
       "      <td>83311</td>\n",
       "      <td>13</td>\n",
       "      <td>1</td>\n",
       "      <td>0</td>\n",
       "      <td>0</td>\n",
       "      <td>13</td>\n",
       "      <td>False</td>\n",
       "      <td>False</td>\n",
       "      <td>False</td>\n",
       "      <td>...</td>\n",
       "      <td>False</td>\n",
       "      <td>False</td>\n",
       "      <td>False</td>\n",
       "      <td>False</td>\n",
       "      <td>False</td>\n",
       "      <td>False</td>\n",
       "      <td>False</td>\n",
       "      <td>True</td>\n",
       "      <td>False</td>\n",
       "      <td>False</td>\n",
       "    </tr>\n",
       "    <tr>\n",
       "      <th>2</th>\n",
       "      <td>38</td>\n",
       "      <td>215646</td>\n",
       "      <td>9</td>\n",
       "      <td>1</td>\n",
       "      <td>0</td>\n",
       "      <td>0</td>\n",
       "      <td>40</td>\n",
       "      <td>False</td>\n",
       "      <td>False</td>\n",
       "      <td>False</td>\n",
       "      <td>...</td>\n",
       "      <td>False</td>\n",
       "      <td>False</td>\n",
       "      <td>False</td>\n",
       "      <td>False</td>\n",
       "      <td>False</td>\n",
       "      <td>False</td>\n",
       "      <td>False</td>\n",
       "      <td>True</td>\n",
       "      <td>False</td>\n",
       "      <td>False</td>\n",
       "    </tr>\n",
       "    <tr>\n",
       "      <th>3</th>\n",
       "      <td>53</td>\n",
       "      <td>234721</td>\n",
       "      <td>7</td>\n",
       "      <td>1</td>\n",
       "      <td>0</td>\n",
       "      <td>0</td>\n",
       "      <td>40</td>\n",
       "      <td>False</td>\n",
       "      <td>False</td>\n",
       "      <td>False</td>\n",
       "      <td>...</td>\n",
       "      <td>False</td>\n",
       "      <td>False</td>\n",
       "      <td>False</td>\n",
       "      <td>False</td>\n",
       "      <td>False</td>\n",
       "      <td>False</td>\n",
       "      <td>False</td>\n",
       "      <td>True</td>\n",
       "      <td>False</td>\n",
       "      <td>False</td>\n",
       "    </tr>\n",
       "    <tr>\n",
       "      <th>4</th>\n",
       "      <td>28</td>\n",
       "      <td>338409</td>\n",
       "      <td>13</td>\n",
       "      <td>0</td>\n",
       "      <td>0</td>\n",
       "      <td>0</td>\n",
       "      <td>40</td>\n",
       "      <td>False</td>\n",
       "      <td>False</td>\n",
       "      <td>False</td>\n",
       "      <td>...</td>\n",
       "      <td>False</td>\n",
       "      <td>False</td>\n",
       "      <td>False</td>\n",
       "      <td>False</td>\n",
       "      <td>False</td>\n",
       "      <td>False</td>\n",
       "      <td>False</td>\n",
       "      <td>False</td>\n",
       "      <td>False</td>\n",
       "      <td>False</td>\n",
       "    </tr>\n",
       "  </tbody>\n",
       "</table>\n",
       "<p>5 rows × 107 columns</p>\n",
       "</div>"
      ],
      "text/plain": [
       "   age  fnlwgt  education-num  sex  capital-gain  capital-loss  \\\n",
       "0   39   77516             13    1          2174             0   \n",
       "1   50   83311             13    1             0             0   \n",
       "2   38  215646              9    1             0             0   \n",
       "3   53  234721              7    1             0             0   \n",
       "4   28  338409             13    0             0             0   \n",
       "\n",
       "   hours-per-week  workclass_ ?  workclass_ Federal-gov  workclass_ Local-gov  \\\n",
       "0              40         False                   False                 False   \n",
       "1              13         False                   False                 False   \n",
       "2              40         False                   False                 False   \n",
       "3              40         False                   False                 False   \n",
       "4              40         False                   False                 False   \n",
       "\n",
       "   ...  native-country_ Portugal  native-country_ Puerto-Rico  \\\n",
       "0  ...                     False                        False   \n",
       "1  ...                     False                        False   \n",
       "2  ...                     False                        False   \n",
       "3  ...                     False                        False   \n",
       "4  ...                     False                        False   \n",
       "\n",
       "   native-country_ Scotland  native-country_ South  native-country_ Taiwan  \\\n",
       "0                     False                  False                   False   \n",
       "1                     False                  False                   False   \n",
       "2                     False                  False                   False   \n",
       "3                     False                  False                   False   \n",
       "4                     False                  False                   False   \n",
       "\n",
       "   native-country_ Thailand  native-country_ Trinadad&Tobago  \\\n",
       "0                     False                            False   \n",
       "1                     False                            False   \n",
       "2                     False                            False   \n",
       "3                     False                            False   \n",
       "4                     False                            False   \n",
       "\n",
       "   native-country_ United-States  native-country_ Vietnam  \\\n",
       "0                           True                    False   \n",
       "1                           True                    False   \n",
       "2                           True                    False   \n",
       "3                           True                    False   \n",
       "4                          False                    False   \n",
       "\n",
       "   native-country_ Yugoslavia  \n",
       "0                       False  \n",
       "1                       False  \n",
       "2                       False  \n",
       "3                       False  \n",
       "4                       False  \n",
       "\n",
       "[5 rows x 107 columns]"
      ]
     },
     "execution_count": 14,
     "metadata": {},
     "output_type": "execute_result"
    }
   ],
   "source": [
    "features_complete = pd.get_dummies(features)\n",
    "features_complete.head()"
   ]
  },
  {
   "cell_type": "markdown",
   "metadata": {
    "id": "Lu2QFRjVvio9"
   },
   "source": [
    "By applying label encoding to columns with fewer than two levels, the total\n",
    "number of columns was reduced, streamlining the model for improved efficiency and performance.\n",
    "\n",
    "\n",
    "\n",
    "\n",
    "\n",
    "\n"
   ]
  },
  {
   "cell_type": "code",
   "execution_count": 15,
   "metadata": {
    "id": "kaLvcxCMPEKb"
   },
   "outputs": [],
   "source": [
    "X = features_complete"
   ]
  },
  {
   "cell_type": "markdown",
   "metadata": {},
   "source": [
    "## Standarization"
   ]
  },
  {
   "cell_type": "code",
   "execution_count": 16,
   "metadata": {
    "id": "9mYJUKuSSLDU"
   },
   "outputs": [],
   "source": [
    "scaler = StandardScaler()\n",
    "X[['age', 'fnlwgt', 'education-num', 'capital-gain', 'capital-loss', 'hours-per-week']] = scaler.fit_transform(X[['age', 'fnlwgt', 'education-num', 'capital-gain', 'capital-loss', 'hours-per-week']])\n",
    "\n"
   ]
  },
  {
   "cell_type": "markdown",
   "metadata": {
    "id": "QQsB0p96f3Ae"
   },
   "source": [
    "## Splitting the data for training and testing"
   ]
  },
  {
   "cell_type": "code",
   "execution_count": 17,
   "metadata": {
    "colab": {
     "base_uri": "https://localhost:8080/"
    },
    "id": "athAGnnzF_uX",
    "outputId": "f27af3ef-8a59-4459-e365-366527187db7"
   },
   "outputs": [
    {
     "name": "stdout",
     "output_type": "stream",
     "text": [
      "X_train shape: (22792, 107)\n",
      "X_test shape: (9769, 107)\n",
      "Y_train shape: (22792,)\n",
      "Y_test shape: (9769,)\n"
     ]
    }
   ],
   "source": [
    "# Splitting the data in 70-30 Ratio\n",
    "X_train, X_test, Y_train, Y_test = train_test_split(X, Y, test_size=0.3, random_state=42)\n",
    "print(\"X_train shape:\", X_train.shape)\n",
    "print(\"X_test shape:\", X_test.shape)\n",
    "print(\"Y_train shape:\", Y_train.shape)\n",
    "print(\"Y_test shape:\", Y_test.shape)\n"
   ]
  },
  {
   "cell_type": "markdown",
   "metadata": {
    "id": "pogAWU-QgObT"
   },
   "source": [
    "# Model Building\n",
    "1) Random Forest\n",
    "\n",
    "2) KNN\n",
    "\n",
    "3) LSTM"
   ]
  },
  {
   "cell_type": "code",
   "execution_count": null,
   "metadata": {
    "id": "36l7_li_DdWQ"
   },
   "outputs": [],
   "source": [
    "def calculate_metrics(y_true, y_pred):\n",
    "    cm = confusion_matrix(y_true, y_pred)\n",
    "    TN, FP, FN, TP = cm.ravel()\n",
    "\n",
    "    # Core metrics\n",
    "    TPR = TP / (TP + FN) if (TP + FN) != 0 else 0  # True Positive Rate\n",
    "    TNR = TN / (TN + FP) if (TN + FP) != 0 else 0  # True Negative Rate\n",
    "    FPR = FP / (TN + FP) if (TN + FP) != 0 else 0  # False Positive Rate\n",
    "    FNR = FN / (TP + FN) if (TP + FN) != 0 else 0  # False Negative Rate\n",
    "    Precision = TP / (TP + FP) if (TP + FP) != 0 else 0  # Precision\n",
    "    F1_measure = 2 * (Precision * TPR) / (Precision + TPR) if (Precision + TPR) != 0 else 0  # F1 Score\n",
    "    Accuracy = (TP + TN) / (TP + TN + FP + FN)  # Calculated Accuracy\n",
    "    Error_rate = (FP + FN) / (TP + TN + FP + FN)  # Error Rate\n",
    "    sklearn_accuracy = accuracy_score(y_true, y_pred)  # Accuracy by sklearn\n",
    "\n",
    "\n",
    "    return {\n",
    "        'TP': TP,\n",
    "        'TN': TN,\n",
    "        'FP': FP,\n",
    "        'FN': FN,\n",
    "        'TPR': TPR,\n",
    "        'TNR': TNR,\n",
    "        'FPR': FPR,\n",
    "        'FNR': FNR,\n",
    "        'Precision': Precision,\n",
    "        'F1_measure': F1_measure,\n",
    "        'Calculated_Accuracy': Accuracy,\n",
    "        'Error_rate': Error_rate,\n",
    "        'Sklearn_Accuracy': sklearn_accuracy,\n",
    "\n",
    "    }"
   ]
  },
  {
   "cell_type": "code",
   "execution_count": 19,
   "metadata": {
    "colab": {
     "base_uri": "https://localhost:8080/"
    },
    "id": "NY-i51InS4G2",
    "outputId": "a807a5b2-5b0b-4c9c-b798-173aed871f92"
   },
   "outputs": [
    {
     "name": "stdout",
     "output_type": "stream",
     "text": [
      "\n",
      "Best Parameters for KNN based on GridSearchCV:  {'n_neighbors': 21}\n",
      "\n",
      "\n"
     ]
    }
   ],
   "source": [
    "knn_parameters = {\"n_neighbors\": [5, 7, 9, 11, 13, 15, 17, 19, 21]}\n",
    "knn_model = KNeighborsClassifier()\n",
    "knn_cv = GridSearchCV(knn_model, knn_parameters, cv=10, n_jobs=-1)\n",
    "knn_cv.fit(X_train, Y_train)\n",
    "print(\"\\nBest Parameters for KNN based on GridSearchCV: \", knn_cv.best_params_)\n",
    "print('\\n')\n",
    "best_n_neighbors = knn_cv.best_params_['n_neighbors']\n"
   ]
  },
  {
   "cell_type": "markdown",
   "metadata": {
    "id": "QRb8LQluVTpZ"
   },
   "source": [
    "### Random Forest"
   ]
  },
  {
   "cell_type": "code",
   "execution_count": 20,
   "metadata": {
    "colab": {
     "base_uri": "https://localhost:8080/"
    },
    "id": "ocADETRSVYkd",
    "outputId": "f5dddae4-9737-48bd-bc14-a44a3f8f108f"
   },
   "outputs": [
    {
     "name": "stderr",
     "output_type": "stream",
     "text": [
      "c:\\Users\\SRINIVAS\\Downloads\\Final_Project\\.venv\\Lib\\site-packages\\numpy\\ma\\core.py:2846: RuntimeWarning: invalid value encountered in cast\n",
      "  _data = np.array(data, dtype=dtype, copy=copy,\n"
     ]
    },
    {
     "name": "stdout",
     "output_type": "stream",
     "text": [
      "\n",
      "Best Parameters for Random Forest based on RandomizedSearchCV:  {'n_estimators': 100, 'min_samples_leaf': 2, 'criterion': 'entropy'}\n"
     ]
    }
   ],
   "source": [
    "# Params for Random Forest\n",
    "param_dist_rf = {\n",
    "    \"n_estimators\": [50, 100, 150],\n",
    "    \"min_samples_leaf\": [1, 2, 4],\n",
    "    \"criterion\": ['gini', 'entropy']\n",
    "}\n",
    "\n",
    "rf_classifier = RandomForestClassifier()\n",
    "\n",
    "#RandomizedSearchCV\n",
    "random_search_rf = RandomizedSearchCV(\n",
    "    estimator=rf_classifier,\n",
    "    param_distributions=param_dist_rf,\n",
    "    n_iter=10,  \n",
    "    cv=10,\n",
    "    n_jobs=-1,\n",
    "    random_state=42\n",
    ")\n",
    "\n",
    "# Model Fitting \n",
    "random_search_rf.fit(X_train, Y_train)\n",
    "best_rf_params = random_search_rf.best_params_\n",
    "print(\"\\nBest Parameters for Random Forest based on RandomizedSearchCV: \", best_rf_params)"
   ]
  },
  {
   "cell_type": "code",
   "execution_count": null,
   "metadata": {
    "colab": {
     "base_uri": "https://localhost:8080/"
    },
    "id": "IkeBysNCxSwu",
    "outputId": "e1f10c7b-6f68-4a21-d41f-3d9ccd1f8a9c"
   },
   "outputs": [],
   "source": [
    "rf_model = RandomForestClassifier(**best_rf_params, random_state=42)\n",
    "rf_metrics = []\n",
    "skf = StratifiedKFold(n_splits=10)\n",
    "\n",
    "# Metric Calculation For Each Fold \n",
    "for fold, (train_index, val_index) in enumerate(skf.split(X_train, Y_train), start=1):\n",
    "    X_train_fold, X_val_fold = X_train.iloc[train_index], X_train.iloc[val_index]\n",
    "    y_train_fold, y_val_fold = Y_train.iloc[train_index], Y_train.iloc[val_index]\n",
    "\n",
    "    rf_model.fit(X_train_fold, y_train_fold)\n",
    "    y_val_pred = rf_model.predict(X_val_fold)\n",
    "    y_val_prob = rf_model.predict_proba(X_val_fold)[:, 1]\n",
    "    metrics = calculate_metrics(y_val_fold, y_val_pred)\n",
    "    metrics['AUC'] = roc_auc_score(y_val_fold, y_val_prob)\n",
    "    metrics['Brier_Score'] = brier_score_loss(y_val_fold, y_val_prob)\n",
    "    rf_metrics.append(metrics)\n",
    "\n",
    "# Average Calcualtion\n",
    "rf_metrics_df = pd.DataFrame(rf_metrics)\n",
    "average_rf_metrics = rf_metrics_df.mean().to_frame(name='Average')\n",
    "\n",
    "\n"
   ]
  },
  {
   "cell_type": "code",
   "execution_count": 22,
   "metadata": {},
   "outputs": [
    {
     "name": "stdout",
     "output_type": "stream",
     "text": [
      "\n",
      "Random Forest Metrics for Each Fold:\n",
      "                                0            1            2            3  \\\n",
      "TP                    340.000000   350.000000   345.000000   338.000000   \n",
      "TN                   1617.000000  1616.000000  1627.000000  1628.000000   \n",
      "FP                    110.000000   111.000000   100.000000    99.000000   \n",
      "FN                    213.000000   203.000000   207.000000   214.000000   \n",
      "TPR                     0.614828     0.632911     0.625000     0.612319   \n",
      "TNR                     0.936306     0.935727     0.942096     0.942675   \n",
      "FPR                     0.063694     0.064273     0.057904     0.057325   \n",
      "FNR                     0.385172     0.367089     0.375000     0.387681   \n",
      "Precision               0.755556     0.759219     0.775281     0.773455   \n",
      "F1_measure              0.677966     0.690335     0.692076     0.683519   \n",
      "Calculated_Accuracy     0.858333     0.862281     0.865292     0.862659   \n",
      "Error_rate              0.141667     0.137719     0.134708     0.137341   \n",
      "Sklearn_Accuracy        0.858333     0.862281     0.865292     0.862659   \n",
      "AUC                     0.913403     0.919885     0.916147     0.916465   \n",
      "Brier_Score             0.098349     0.094787     0.096511     0.097005   \n",
      "\n",
      "                               4            5            6            7  \\\n",
      "TP                    320.000000   346.000000   345.000000   351.000000   \n",
      "TN                   1637.000000  1627.000000  1624.000000  1623.000000   \n",
      "FP                     90.000000    99.000000   102.000000   103.000000   \n",
      "FN                    232.000000   207.000000   208.000000   202.000000   \n",
      "TPR                     0.579710     0.625678     0.623870     0.634720   \n",
      "TNR                     0.947887     0.942642     0.940904     0.940324   \n",
      "FPR                     0.052113     0.057358     0.059096     0.059676   \n",
      "FNR                     0.420290     0.374322     0.376130     0.365280   \n",
      "Precision               0.780488     0.777528     0.771812     0.773128   \n",
      "F1_measure              0.665281     0.693387     0.690000     0.697120   \n",
      "Calculated_Accuracy     0.858710     0.865731     0.863975     0.866169   \n",
      "Error_rate              0.141290     0.134269     0.136025     0.133831   \n",
      "Sklearn_Accuracy        0.858710     0.865731     0.863975     0.866169   \n",
      "AUC                     0.914635     0.919835     0.918277     0.922160   \n",
      "Brier_Score             0.096981     0.094909     0.095762     0.094144   \n",
      "\n",
      "                               8            9  \n",
      "TP                    338.000000   348.000000  \n",
      "TN                   1618.000000  1631.000000  \n",
      "FP                    108.000000    95.000000  \n",
      "FN                    215.000000   205.000000  \n",
      "TPR                     0.611212     0.629295  \n",
      "TNR                     0.937428     0.944959  \n",
      "FPR                     0.062572     0.055041  \n",
      "FNR                     0.388788     0.370705  \n",
      "Precision               0.757848     0.785553  \n",
      "F1_measure              0.676677     0.698795  \n",
      "Calculated_Accuracy     0.858271     0.868363  \n",
      "Error_rate              0.141729     0.131637  \n",
      "Sklearn_Accuracy        0.858271     0.868363  \n",
      "AUC                     0.911461     0.922218  \n",
      "Brier_Score             0.098147     0.092865  \n"
     ]
    }
   ],
   "source": [
    "print(\"\\nRandom Forest Metrics for Each Fold:\\n\", rf_metrics_df.T)\n"
   ]
  },
  {
   "cell_type": "code",
   "execution_count": 23,
   "metadata": {},
   "outputs": [
    {
     "name": "stdout",
     "output_type": "stream",
     "text": [
      "\n",
      "Random Forest Average Metrics across all folds:\n",
      "                          Average\n",
      "TP                    342.100000\n",
      "TN                   1624.800000\n",
      "FP                    101.700000\n",
      "FN                    210.600000\n",
      "TPR                     0.618954\n",
      "TNR                     0.941095\n",
      "FPR                     0.058905\n",
      "FNR                     0.381046\n",
      "Precision               0.770987\n",
      "F1_measure              0.686516\n",
      "Calculated_Accuracy     0.862978\n",
      "Error_rate              0.137022\n",
      "Sklearn_Accuracy        0.862978\n",
      "AUC                     0.917449\n",
      "Brier_Score             0.095946\n"
     ]
    }
   ],
   "source": [
    "print(\"\\nRandom Forest Average Metrics across all folds:\\n\", average_rf_metrics)"
   ]
  },
  {
   "cell_type": "markdown",
   "metadata": {},
   "source": [
    "### KNN Model\n"
   ]
  },
  {
   "cell_type": "code",
   "execution_count": null,
   "metadata": {
    "colab": {
     "base_uri": "https://localhost:8080/"
    },
    "id": "jqR5p2Xd-DQh",
    "outputId": "0395223a-b44f-463b-d6a9-cb35925a00b1"
   },
   "outputs": [],
   "source": [
    "# KNN Model Initialization\n",
    "knn_model = KNeighborsClassifier(n_neighbors=best_n_neighbors)\n",
    "\n",
    "knn_metrics = []\n",
    "\n",
    "for fold, (train_index, val_index) in enumerate(skf.split(X_train, Y_train), start=1):\n",
    "    X_train_fold, X_val_fold = X_train.iloc[train_index], X_train.iloc[val_index]\n",
    "    y_train_fold, y_val_fold = Y_train.iloc[train_index], Y_train.iloc[val_index]\n",
    "\n",
    "    # Fit the model on each fold\n",
    "    knn_model.fit(X_train_fold, y_train_fold)\n",
    "    y_val_pred = knn_model.predict(X_val_fold)\n",
    "    y_val_prob = knn_model.predict_proba(X_val_fold)[:, 1]\n",
    "    metrics = calculate_metrics(y_val_fold, y_val_pred)\n",
    "    metrics['AUC'] = roc_auc_score(y_val_fold, y_val_prob)\n",
    "    metrics['Brier_Score'] = brier_score_loss(y_val_fold, y_val_prob)\n",
    "\n",
    "    knn_metrics.append(metrics)\n",
    "\n",
    "# Convert fold metrics to DataFrame and calculate the average metrics\n",
    "knn_metrics_df = pd.DataFrame(knn_metrics)\n",
    "average_knn_metrics = knn_metrics_df.mean().to_frame(name='Average')\n",
    "\n",
    "\n"
   ]
  },
  {
   "cell_type": "code",
   "execution_count": 25,
   "metadata": {},
   "outputs": [
    {
     "name": "stdout",
     "output_type": "stream",
     "text": [
      "\n",
      "KNN Metrics for Each Fold:\n",
      "                                0            1            2            3  \\\n",
      "TP                    327.000000   331.000000   335.000000   340.000000   \n",
      "TN                   1576.000000  1586.000000  1590.000000  1578.000000   \n",
      "FP                    151.000000   141.000000   137.000000   149.000000   \n",
      "FN                    226.000000   222.000000   217.000000   212.000000   \n",
      "TPR                     0.591320     0.598553     0.606884     0.615942   \n",
      "TNR                     0.912565     0.918356     0.920672     0.913723   \n",
      "FPR                     0.087435     0.081644     0.079328     0.086277   \n",
      "FNR                     0.408680     0.401447     0.393116     0.384058   \n",
      "Precision               0.684100     0.701271     0.709746     0.695297   \n",
      "F1_measure              0.634336     0.645854     0.654297     0.653218   \n",
      "Calculated_Accuracy     0.834649     0.840789     0.844669     0.841597   \n",
      "Error_rate              0.165351     0.159211     0.155331     0.158403   \n",
      "Sklearn_Accuracy        0.834649     0.840789     0.844669     0.841597   \n",
      "AUC                     0.887457     0.887851     0.895086     0.896137   \n",
      "Brier_Score             0.111663     0.109407     0.106705     0.109353   \n",
      "\n",
      "                               4            5            6            7  \\\n",
      "TP                    325.000000   339.000000   336.000000   340.000000   \n",
      "TN                   1592.000000  1583.000000  1579.000000  1571.000000   \n",
      "FP                    135.000000   143.000000   147.000000   155.000000   \n",
      "FN                    227.000000   214.000000   217.000000   213.000000   \n",
      "TPR                     0.588768     0.613020     0.607595     0.614828   \n",
      "TNR                     0.921830     0.917149     0.914832     0.910197   \n",
      "FPR                     0.078170     0.082851     0.085168     0.089803   \n",
      "FNR                     0.411232     0.386980     0.392405     0.385172   \n",
      "Precision               0.706522     0.703320     0.695652     0.686869   \n",
      "F1_measure              0.642292     0.655072     0.648649     0.648855   \n",
      "Calculated_Accuracy     0.841158     0.843352     0.840281     0.838526   \n",
      "Error_rate              0.158842     0.156648     0.159719     0.161474   \n",
      "Sklearn_Accuracy        0.841158     0.843352     0.840281     0.838526   \n",
      "AUC                     0.892666     0.896636     0.892835     0.897729   \n",
      "Brier_Score             0.109925     0.108068     0.109051     0.108321   \n",
      "\n",
      "                               8            9  \n",
      "TP                    335.000000   330.000000  \n",
      "TN                   1585.000000  1589.000000  \n",
      "FP                    141.000000   137.000000  \n",
      "FN                    218.000000   223.000000  \n",
      "TPR                     0.605787     0.596745  \n",
      "TNR                     0.918308     0.920626  \n",
      "FPR                     0.081692     0.079374  \n",
      "FNR                     0.394213     0.403255  \n",
      "Precision               0.703782     0.706638  \n",
      "F1_measure              0.651118     0.647059  \n",
      "Calculated_Accuracy     0.842475     0.842036  \n",
      "Error_rate              0.157525     0.157964  \n",
      "Sklearn_Accuracy        0.842475     0.842036  \n",
      "AUC                     0.891880     0.895724  \n",
      "Brier_Score             0.109085     0.107221  \n"
     ]
    }
   ],
   "source": [
    "print(\"\\nKNN Metrics for Each Fold:\\n\", knn_metrics_df.T)\n"
   ]
  },
  {
   "cell_type": "code",
   "execution_count": 26,
   "metadata": {},
   "outputs": [
    {
     "name": "stdout",
     "output_type": "stream",
     "text": [
      "\n",
      "KNN Average Metrics across all folds:\n",
      "                          Average\n",
      "TP                    333.800000\n",
      "TN                   1582.900000\n",
      "FP                    143.600000\n",
      "FN                    218.900000\n",
      "TPR                     0.603944\n",
      "TNR                     0.916826\n",
      "FPR                     0.083174\n",
      "FNR                     0.396056\n",
      "Precision               0.699320\n",
      "F1_measure              0.648075\n",
      "Calculated_Accuracy     0.840953\n",
      "Error_rate              0.159047\n",
      "Sklearn_Accuracy        0.840953\n",
      "AUC                     0.893400\n",
      "Brier_Score             0.108880\n"
     ]
    }
   ],
   "source": [
    "print(\"\\nKNN Average Metrics across all folds:\\n\", average_knn_metrics)"
   ]
  },
  {
   "cell_type": "markdown",
   "metadata": {
    "id": "K9N1mKc4brzH"
   },
   "source": [
    "### LSTM\n",
    "  "
   ]
  },
  {
   "cell_type": "code",
   "execution_count": null,
   "metadata": {
    "colab": {
     "base_uri": "https://localhost:8080/"
    },
    "id": "2GcfRKTbbteb",
    "outputId": "15f99a06-b802-40db-de69-0c1f46d5e9f7"
   },
   "outputs": [
    {
     "name": "stderr",
     "output_type": "stream",
     "text": [
      "c:\\Users\\SRINIVAS\\Downloads\\Final_Project\\.venv\\Lib\\site-packages\\keras\\src\\layers\\rnn\\rnn.py:204: UserWarning: Do not pass an `input_shape`/`input_dim` argument to a layer. When using Sequential models, prefer using an `Input(shape)` object as the first layer in the model instead.\n",
      "  super().__init__(**kwargs)\n"
     ]
    },
    {
     "name": "stdout",
     "output_type": "stream",
     "text": [
      "\u001b[1m72/72\u001b[0m \u001b[32m━━━━━━━━━━━━━━━━━━━━\u001b[0m\u001b[37m\u001b[0m \u001b[1m0s\u001b[0m 3ms/step\n"
     ]
    },
    {
     "name": "stderr",
     "output_type": "stream",
     "text": [
      "c:\\Users\\SRINIVAS\\Downloads\\Final_Project\\.venv\\Lib\\site-packages\\keras\\src\\layers\\rnn\\rnn.py:204: UserWarning: Do not pass an `input_shape`/`input_dim` argument to a layer. When using Sequential models, prefer using an `Input(shape)` object as the first layer in the model instead.\n",
      "  super().__init__(**kwargs)\n"
     ]
    },
    {
     "name": "stdout",
     "output_type": "stream",
     "text": [
      "\u001b[1m72/72\u001b[0m \u001b[32m━━━━━━━━━━━━━━━━━━━━\u001b[0m\u001b[37m\u001b[0m \u001b[1m0s\u001b[0m 4ms/step\n"
     ]
    },
    {
     "name": "stderr",
     "output_type": "stream",
     "text": [
      "c:\\Users\\SRINIVAS\\Downloads\\Final_Project\\.venv\\Lib\\site-packages\\keras\\src\\layers\\rnn\\rnn.py:204: UserWarning: Do not pass an `input_shape`/`input_dim` argument to a layer. When using Sequential models, prefer using an `Input(shape)` object as the first layer in the model instead.\n",
      "  super().__init__(**kwargs)\n"
     ]
    },
    {
     "name": "stdout",
     "output_type": "stream",
     "text": [
      "\u001b[1m72/72\u001b[0m \u001b[32m━━━━━━━━━━━━━━━━━━━━\u001b[0m\u001b[37m\u001b[0m \u001b[1m0s\u001b[0m 3ms/step\n"
     ]
    },
    {
     "name": "stderr",
     "output_type": "stream",
     "text": [
      "c:\\Users\\SRINIVAS\\Downloads\\Final_Project\\.venv\\Lib\\site-packages\\keras\\src\\layers\\rnn\\rnn.py:204: UserWarning: Do not pass an `input_shape`/`input_dim` argument to a layer. When using Sequential models, prefer using an `Input(shape)` object as the first layer in the model instead.\n",
      "  super().__init__(**kwargs)\n"
     ]
    },
    {
     "name": "stdout",
     "output_type": "stream",
     "text": [
      "\u001b[1m72/72\u001b[0m \u001b[32m━━━━━━━━━━━━━━━━━━━━\u001b[0m\u001b[37m\u001b[0m \u001b[1m1s\u001b[0m 5ms/step\n"
     ]
    },
    {
     "name": "stderr",
     "output_type": "stream",
     "text": [
      "c:\\Users\\SRINIVAS\\Downloads\\Final_Project\\.venv\\Lib\\site-packages\\keras\\src\\layers\\rnn\\rnn.py:204: UserWarning: Do not pass an `input_shape`/`input_dim` argument to a layer. When using Sequential models, prefer using an `Input(shape)` object as the first layer in the model instead.\n",
      "  super().__init__(**kwargs)\n"
     ]
    },
    {
     "name": "stdout",
     "output_type": "stream",
     "text": [
      "\u001b[1m72/72\u001b[0m \u001b[32m━━━━━━━━━━━━━━━━━━━━\u001b[0m\u001b[37m\u001b[0m \u001b[1m0s\u001b[0m 3ms/step\n"
     ]
    },
    {
     "name": "stderr",
     "output_type": "stream",
     "text": [
      "c:\\Users\\SRINIVAS\\Downloads\\Final_Project\\.venv\\Lib\\site-packages\\keras\\src\\layers\\rnn\\rnn.py:204: UserWarning: Do not pass an `input_shape`/`input_dim` argument to a layer. When using Sequential models, prefer using an `Input(shape)` object as the first layer in the model instead.\n",
      "  super().__init__(**kwargs)\n"
     ]
    },
    {
     "name": "stdout",
     "output_type": "stream",
     "text": [
      "\u001b[1m72/72\u001b[0m \u001b[32m━━━━━━━━━━━━━━━━━━━━\u001b[0m\u001b[37m\u001b[0m \u001b[1m0s\u001b[0m 4ms/step\n"
     ]
    },
    {
     "name": "stderr",
     "output_type": "stream",
     "text": [
      "c:\\Users\\SRINIVAS\\Downloads\\Final_Project\\.venv\\Lib\\site-packages\\keras\\src\\layers\\rnn\\rnn.py:204: UserWarning: Do not pass an `input_shape`/`input_dim` argument to a layer. When using Sequential models, prefer using an `Input(shape)` object as the first layer in the model instead.\n",
      "  super().__init__(**kwargs)\n"
     ]
    },
    {
     "name": "stdout",
     "output_type": "stream",
     "text": [
      "\u001b[1m72/72\u001b[0m \u001b[32m━━━━━━━━━━━━━━━━━━━━\u001b[0m\u001b[37m\u001b[0m \u001b[1m1s\u001b[0m 6ms/step\n"
     ]
    },
    {
     "name": "stderr",
     "output_type": "stream",
     "text": [
      "c:\\Users\\SRINIVAS\\Downloads\\Final_Project\\.venv\\Lib\\site-packages\\keras\\src\\layers\\rnn\\rnn.py:204: UserWarning: Do not pass an `input_shape`/`input_dim` argument to a layer. When using Sequential models, prefer using an `Input(shape)` object as the first layer in the model instead.\n",
      "  super().__init__(**kwargs)\n"
     ]
    },
    {
     "name": "stdout",
     "output_type": "stream",
     "text": [
      "\u001b[1m72/72\u001b[0m \u001b[32m━━━━━━━━━━━━━━━━━━━━\u001b[0m\u001b[37m\u001b[0m \u001b[1m0s\u001b[0m 3ms/step\n"
     ]
    },
    {
     "name": "stderr",
     "output_type": "stream",
     "text": [
      "c:\\Users\\SRINIVAS\\Downloads\\Final_Project\\.venv\\Lib\\site-packages\\keras\\src\\layers\\rnn\\rnn.py:204: UserWarning: Do not pass an `input_shape`/`input_dim` argument to a layer. When using Sequential models, prefer using an `Input(shape)` object as the first layer in the model instead.\n",
      "  super().__init__(**kwargs)\n"
     ]
    },
    {
     "name": "stdout",
     "output_type": "stream",
     "text": [
      "\u001b[1m72/72\u001b[0m \u001b[32m━━━━━━━━━━━━━━━━━━━━\u001b[0m\u001b[37m\u001b[0m \u001b[1m0s\u001b[0m 3ms/step\n"
     ]
    },
    {
     "name": "stderr",
     "output_type": "stream",
     "text": [
      "c:\\Users\\SRINIVAS\\Downloads\\Final_Project\\.venv\\Lib\\site-packages\\keras\\src\\layers\\rnn\\rnn.py:204: UserWarning: Do not pass an `input_shape`/`input_dim` argument to a layer. When using Sequential models, prefer using an `Input(shape)` object as the first layer in the model instead.\n",
      "  super().__init__(**kwargs)\n"
     ]
    },
    {
     "name": "stdout",
     "output_type": "stream",
     "text": [
      "\u001b[1m72/72\u001b[0m \u001b[32m━━━━━━━━━━━━━━━━━━━━\u001b[0m\u001b[37m\u001b[0m \u001b[1m0s\u001b[0m 3ms/step\n"
     ]
    }
   ],
   "source": [
    "# Reshaping\n",
    "X_train_reshaped = X_train.values.astype(np.float32).reshape((X_train.shape[0], 1, X_train.shape[1]))\n",
    "Y_train_reshaped = Y_train.values.astype(np.int32)  \n",
    "\n",
    "def create_lstm_model():\n",
    "    model = Sequential()\n",
    "    model.add(LSTM(50, input_shape=(1, X_train_reshaped.shape[2]), activation='relu'))\n",
    "    model.add(Dense(1, activation='sigmoid'))\n",
    "    model.compile(optimizer='adam', loss='binary_crossentropy', metrics=['accuracy'])\n",
    "    return model\n",
    "\n",
    "lstm_metrics = []\n",
    "\n",
    "for fold, (train_index, val_index) in enumerate(skf.split(X_train_reshaped, Y_train_reshaped), start=1):\n",
    "    X_train_fold, X_val_fold = X_train_reshaped[train_index], X_train_reshaped[val_index]\n",
    "    y_train_fold, y_val_fold = Y_train_reshaped[train_index], Y_train_reshaped[val_index]\n",
    "\n",
    "    lstm_model = create_lstm_model()\n",
    "    history = lstm_model.fit(X_train_fold, y_train_fold, epochs=10, batch_size=32, verbose=0)\n",
    "    y_val_prob = lstm_model.predict(X_val_fold)\n",
    "    y_val_pred = (y_val_prob > 0.5).astype(\"int32\")\n",
    "    metrics = calculate_metrics(y_val_fold, y_val_pred)\n",
    "    metrics['AUC'] = roc_auc_score(y_val_fold, y_val_prob)\n",
    "    metrics['Brier_Score'] = brier_score_loss(y_val_fold, y_val_prob)\n",
    "\n",
    "    lstm_metrics.append(metrics)\n",
    "lstm_metrics_df = pd.DataFrame(lstm_metrics)\n",
    "average_lstm_metrics = lstm_metrics_df.mean().to_frame(name='Average')"
   ]
  },
  {
   "cell_type": "code",
   "execution_count": 28,
   "metadata": {},
   "outputs": [
    {
     "name": "stdout",
     "output_type": "stream",
     "text": [
      "\n",
      "LSTM Metrics for Each Fold:\n",
      "                                0            1            2            3  \\\n",
      "TP                    361.000000   362.000000   339.000000   344.000000   \n",
      "TN                   1581.000000  1595.000000  1613.000000  1610.000000   \n",
      "FP                    146.000000   132.000000   114.000000   117.000000   \n",
      "FN                    192.000000   191.000000   213.000000   208.000000   \n",
      "TPR                     0.652803     0.654611     0.614130     0.623188   \n",
      "TNR                     0.915460     0.923567     0.933990     0.932252   \n",
      "FPR                     0.084540     0.076433     0.066010     0.067748   \n",
      "FNR                     0.347197     0.345389     0.385870     0.376812   \n",
      "Precision               0.712032     0.732794     0.748344     0.746204   \n",
      "F1_measure              0.681132     0.691500     0.674627     0.679171   \n",
      "Calculated_Accuracy     0.851754     0.858333     0.856516     0.857394   \n",
      "Error_rate              0.148246     0.141667     0.143484     0.142606   \n",
      "Sklearn_Accuracy        0.851754     0.858333     0.856516     0.857394   \n",
      "AUC                     0.909338     0.914213     0.911853     0.912745   \n",
      "Brier_Score             0.102604     0.098248     0.099910     0.099087   \n",
      "\n",
      "                               4            5            6            7  \\\n",
      "TP                    373.000000   343.000000   325.000000   354.000000   \n",
      "TN                   1567.000000  1627.000000  1628.000000  1598.000000   \n",
      "FP                    160.000000    99.000000    98.000000   128.000000   \n",
      "FN                    179.000000   210.000000   228.000000   199.000000   \n",
      "TPR                     0.675725     0.620253     0.587703     0.640145   \n",
      "TNR                     0.907354     0.942642     0.943221     0.925840   \n",
      "FPR                     0.092646     0.057358     0.056779     0.074160   \n",
      "FNR                     0.324275     0.379747     0.412297     0.359855   \n",
      "Precision               0.699812     0.776018     0.768322     0.734440   \n",
      "F1_measure              0.687558     0.689447     0.665984     0.684058   \n",
      "Calculated_Accuracy     0.851251     0.864414     0.856955     0.856516   \n",
      "Error_rate              0.148749     0.135586     0.143045     0.143484   \n",
      "Sklearn_Accuracy        0.851251     0.864414     0.856955     0.856516   \n",
      "AUC                     0.910179     0.917638     0.916837     0.917914   \n",
      "Brier_Score             0.101467     0.096706     0.097123     0.097632   \n",
      "\n",
      "                               8            9  \n",
      "TP                    354.000000   359.000000  \n",
      "TN                   1578.000000  1600.000000  \n",
      "FP                    148.000000   126.000000  \n",
      "FN                    199.000000   194.000000  \n",
      "TPR                     0.640145     0.649186  \n",
      "TNR                     0.914253     0.926999  \n",
      "FPR                     0.085747     0.073001  \n",
      "FNR                     0.359855     0.350814  \n",
      "Precision               0.705179     0.740206  \n",
      "F1_measure              0.671090     0.691715  \n",
      "Calculated_Accuracy     0.847740     0.859588  \n",
      "Error_rate              0.152260     0.140412  \n",
      "Sklearn_Accuracy        0.847740     0.859588  \n",
      "AUC                     0.909277     0.918739  \n",
      "Brier_Score             0.101846     0.095603  \n"
     ]
    }
   ],
   "source": [
    "print(\"\\nLSTM Metrics for Each Fold:\\n\", lstm_metrics_df.T)"
   ]
  },
  {
   "cell_type": "code",
   "execution_count": 29,
   "metadata": {},
   "outputs": [
    {
     "name": "stdout",
     "output_type": "stream",
     "text": [
      "\n",
      "LSTM Average Metrics across all folds:\n",
      "                          Average\n",
      "TP                    351.400000\n",
      "TN                   1599.700000\n",
      "FP                    126.800000\n",
      "FN                    201.300000\n",
      "TPR                     0.635789\n",
      "TNR                     0.926558\n",
      "FPR                     0.073442\n",
      "FNR                     0.364211\n",
      "Precision               0.736335\n",
      "F1_measure              0.681628\n",
      "Calculated_Accuracy     0.856046\n",
      "Error_rate              0.143954\n",
      "Sklearn_Accuracy        0.856046\n",
      "AUC                     0.913873\n",
      "Brier_Score             0.099023\n"
     ]
    }
   ],
   "source": [
    "print(\"\\nLSTM Average Metrics across all folds:\\n\", average_lstm_metrics)"
   ]
  },
  {
   "cell_type": "markdown",
   "metadata": {
    "id": "sC1RJm5Giktg"
   },
   "source": [
    "### Making Predictions"
   ]
  },
  {
   "cell_type": "code",
   "execution_count": 30,
   "metadata": {
    "colab": {
     "base_uri": "https://localhost:8080/"
    },
    "id": "IRALZ8HdinXb",
    "outputId": "ed36ff07-78c8-4d9e-8fbb-9b0268597771"
   },
   "outputs": [
    {
     "name": "stderr",
     "output_type": "stream",
     "text": [
      "c:\\Users\\SRINIVAS\\Downloads\\Final_Project\\.venv\\Lib\\site-packages\\keras\\src\\layers\\rnn\\rnn.py:204: UserWarning: Do not pass an `input_shape`/`input_dim` argument to a layer. When using Sequential models, prefer using an `Input(shape)` object as the first layer in the model instead.\n",
      "  super().__init__(**kwargs)\n"
     ]
    },
    {
     "name": "stdout",
     "output_type": "stream",
     "text": [
      "\u001b[1m306/306\u001b[0m \u001b[32m━━━━━━━━━━━━━━━━━━━━\u001b[0m\u001b[37m\u001b[0m \u001b[1m1s\u001b[0m 1ms/step\n",
      "\n",
      "LSTM Metrics on Test Set:\n",
      "                            Value\n",
      "TP                   1365.000000\n",
      "TN                   7005.000000\n",
      "FP                    450.000000\n",
      "FN                    949.000000\n",
      "TPR                     0.589888\n",
      "TNR                     0.939638\n",
      "FPR                     0.060362\n",
      "FNR                     0.410112\n",
      "Precision               0.752066\n",
      "F1_measure              0.661177\n",
      "Calculated_Accuracy     0.856792\n",
      "Error_rate              0.143208\n",
      "Sklearn_Accuracy        0.856792\n",
      "AUC                     0.911674\n",
      "Brier_Score             0.098776\n"
     ]
    }
   ],
   "source": [
    "lstm_model_final = create_lstm_model()\n",
    "lstm_model_final.fit(X_train_reshaped, Y_train, epochs=10, batch_size=32, verbose=0)\n",
    "\n",
    "# Reshape test data to match input shape expected by LSTM model\n",
    "X_test_reshaped = X_test.values.astype(np.float32).reshape((X_test.shape[0], 1, X_test.shape[1]))\n",
    "\n",
    "y_test_prob = lstm_model_final.predict(X_test_reshaped)\n",
    "\n",
    "y_test_pred = (y_test_prob > 0.5).astype(\"int32\")\n",
    "\n",
    "test_metrics = calculate_metrics(Y_test, y_test_pred)\n",
    "\n",
    "test_metrics['AUC'] = roc_auc_score(Y_test, y_test_prob)\n",
    "test_metrics['Brier_Score'] = brier_score_loss(Y_test, y_test_prob)\n",
    "\n",
    "test_metrics_df = pd.DataFrame(test_metrics, index=[0]).T  \n",
    "test_metrics_df.columns = [\"Value\"]  \n",
    "print(\"\\nLSTM Metrics on Test Set:\\n\", test_metrics_df)"
   ]
  },
  {
   "cell_type": "code",
   "execution_count": 31,
   "metadata": {},
   "outputs": [
    {
     "data": {
      "image/png": "[encoded data removed]",
      "text/plain": [
       "<Figure size 800x600 with 1 Axes>"
      ]
     },
     "metadata": {},
     "output_type": "display_data"
    }
   ],
   "source": [
    "import matplotlib.pyplot as plt\n",
    "from sklearn.metrics import roc_curve, auc\n",
    "\n",
    "# Calculate ROC curve\n",
    "fpr, tpr, thresholds = roc_curve(Y_test, y_test_prob)\n",
    "roc_auc = auc(fpr, tpr)\n",
    "plt.figure(figsize=(8, 6))\n",
    "plt.plot(fpr, tpr, color='blue', lw=2, label=f'ROC curve (area = {roc_auc:.2f})')\n",
    "plt.plot([0, 1], [0, 1], color='red', lw=2, linestyle='--') \n",
    "plt.xlim([0.0, 1.0])\n",
    "plt.ylim([0.0, 1.05])\n",
    "plt.xlabel('False Positive Rate')\n",
    "plt.ylabel('True Positive Rate')\n",
    "plt.title('ROC Curve For LSTM')\n",
    "plt.legend(loc='lower right')\n",
    "plt.grid()\n",
    "plt.show()"
   ]
  },
  {
   "cell_type": "code",
   "execution_count": 32,
   "metadata": {
    "colab": {
     "base_uri": "https://localhost:8080/"
    },
    "id": "tHGbF4pAquXr",
    "outputId": "7ecd7fc8-f9a0-4030-d430-734133511310"
   },
   "outputs": [
    {
     "name": "stdout",
     "output_type": "stream",
     "text": [
      "\n",
      " RF Metrics on Test Set:\n",
      "                            Value\n",
      "TP                   1424.000000\n",
      "TN                   7020.000000\n",
      "FP                    435.000000\n",
      "FN                    890.000000\n",
      "TPR                     0.615385\n",
      "TNR                     0.941650\n",
      "FPR                     0.058350\n",
      "FNR                     0.384615\n",
      "Precision               0.766003\n",
      "F1_measure              0.682483\n",
      "Calculated_Accuracy     0.864367\n",
      "Error_rate              0.135633\n",
      "Sklearn_Accuracy        0.864367\n",
      "AUC                     0.914501\n",
      "Brier_Score             0.096116\n"
     ]
    }
   ],
   "source": [
    "rf_model.fit(X_train, Y_train)\n",
    "\n",
    "y_test_pred = rf_model.predict(X_test)\n",
    "test_metrics = calculate_metrics(Y_test, y_test_pred)\n",
    "y_test_prob = rf_model.predict_proba(X_test)[:, 1]\n",
    "test_metrics['AUC'] = roc_auc_score(Y_test, y_test_prob)\n",
    "test_metrics['Brier_Score'] = brier_score_loss(Y_test, y_test_prob)\n",
    "test_metrics_df = pd.DataFrame(test_metrics, index=[0]).T  \n",
    "test_metrics_df.columns = [\"Value\"]  \n",
    "print(\"\\n RF Metrics on Test Set:\\n\", test_metrics_df)"
   ]
  },
  {
   "cell_type": "code",
   "execution_count": 33,
   "metadata": {
    "colab": {
     "base_uri": "https://localhost:8080/",
     "height": 564
    },
    "id": "qzIj1jXqv2YI",
    "outputId": "48a79436-318d-4b86-e03e-57dd5cf9ea0c"
   },
   "outputs": [
    {
     "data": {
      "image/png": "[encoded data removed]",
      "text/plain": [
       "<Figure size 800x600 with 1 Axes>"
      ]
     },
     "metadata": {},
     "output_type": "display_data"
    }
   ],
   "source": [
    "fpr, tpr, thresholds = roc_curve(Y_test, y_test_prob)\n",
    "roc_auc = auc(fpr, tpr)\n",
    "plt.figure(figsize=(8, 6))\n",
    "plt.plot(fpr, tpr, color='blue', lw=2, label=f'ROC curve (area = {roc_auc:.2f})')\n",
    "plt.plot([0, 1], [0, 1], color='red', lw=2, linestyle='--') \n",
    "plt.xlim([0.0, 1.0])\n",
    "plt.ylim([0.0, 1.05])\n",
    "plt.xlabel('False Positive Rate')\n",
    "plt.ylabel('True Positive Rate')\n",
    "plt.title('ROC Curve For Random Forest')\n",
    "plt.legend(loc='lower right')\n",
    "plt.grid()\n",
    "plt.show()"
   ]
  },
  {
   "cell_type": "code",
   "execution_count": 34,
   "metadata": {
    "colab": {
     "base_uri": "https://localhost:8080/",
     "height": 564
    },
    "id": "N1V91m_ZxCcH",
    "outputId": "6da6d154-2404-458e-97e9-9965634044ea"
   },
   "outputs": [
    {
     "name": "stdout",
     "output_type": "stream",
     "text": [
      "\n",
      "KNN Metrics on Test Set:\n",
      "                            Value\n",
      "TP                   1418.000000\n",
      "TN                   6843.000000\n",
      "FP                    612.000000\n",
      "FN                    896.000000\n",
      "TPR                     0.612792\n",
      "TNR                     0.917907\n",
      "FPR                     0.082093\n",
      "FNR                     0.387208\n",
      "Precision               0.698522\n",
      "F1_measure              0.652855\n",
      "Calculated_Accuracy     0.845634\n",
      "Error_rate              0.154366\n",
      "Sklearn_Accuracy        0.845634\n",
      "AUC                     0.893203\n",
      "Brier_Score             0.107271\n"
     ]
    }
   ],
   "source": [
    "knn_model.fit(X_train, Y_train)\n",
    "y_test_pred_knn = knn_model.predict(X_test)\n",
    "test_metrics_knn = calculate_metrics(Y_test, y_test_pred_knn)\n",
    "y_test_prob_knn = knn_model.predict_proba(X_test)[:, 1]\n",
    "test_metrics_knn['AUC'] = roc_auc_score(Y_test, y_test_prob_knn)\n",
    "test_metrics_knn['Brier_Score'] = brier_score_loss(Y_test, y_test_prob_knn)\n",
    "test_metrics_knn_df = pd.DataFrame(test_metrics_knn, index=[0]).T\n",
    "test_metrics_knn_df.columns = [\"Value\"]\n",
    "print(\"\\nKNN Metrics on Test Set:\\n\", test_metrics_knn_df)"
   ]
  },
  {
   "cell_type": "code",
   "execution_count": 35,
   "metadata": {},
   "outputs": [
    {
     "data": {
      "image/png": "[encoded data removed]",
      "text/plain": [
       "<Figure size 800x600 with 1 Axes>"
      ]
     },
     "metadata": {},
     "output_type": "display_data"
    }
   ],
   "source": [
    "fpr, tpr, thresholds = roc_curve(Y_test, y_test_prob_knn)\n",
    "roc_auc = auc(fpr, tpr)\n",
    "plt.figure(figsize=(8, 6))\n",
    "plt.plot(fpr, tpr, color='blue', lw=2, label=f'ROC curve (area = {roc_auc:.2f})')\n",
    "plt.plot([0, 1], [0, 1], color='red', lw=2, linestyle='--') \n",
    "plt.xlim([0.0, 1.0])\n",
    "plt.ylim([0.0, 1.05])\n",
    "plt.xlabel('False Positive Rate')\n",
    "plt.ylabel('True Positive Rate')\n",
    "plt.title('ROC Curve For KNN')\n",
    "plt.legend(loc='lower right')\n",
    "plt.grid()\n",
    "plt.show()"
   ]
  }
 ],
 "metadata": {
  "accelerator": "GPU",
  "colab": {
   "gpuType": "T4",
   "provenance": []
  },
  "kernelspec": {
   "display_name": ".venv",
   "language": "python",
   "name": "python3"
  },
  "language_info": {
   "codemirror_mode": {
    "name": "ipython",
    "version": 3
   },
   "file_extension": ".py",
   "mimetype": "text/x-python",
   "name": "python",
   "nbconvert_exporter": "python",
   "pygments_lexer": "ipython3",
   "version": "3.11.9"
  }
 },
 "nbformat": 4,
 "nbformat_minor": 0
}
